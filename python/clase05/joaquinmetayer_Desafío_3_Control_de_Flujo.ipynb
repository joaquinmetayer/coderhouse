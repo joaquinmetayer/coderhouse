{
  "nbformat": 4,
  "nbformat_minor": 0,
  "metadata": {
    "colab": {
      "name": "joaquinmetayer - Desafío 3 Control de Flujo.ipynb",
      "provenance": [],
      "collapsed_sections": [],
      "toc_visible": true
    },
    "kernelspec": {
      "name": "python3",
      "display_name": "Python 3"
    },
    "language_info": {
      "name": "python"
    }
  },
  "cells": [
    {
      "cell_type": "markdown",
      "source": [
        "# Desafío entregable 3 \"Control de Flujo\""
      ],
      "metadata": {
        "id": "gY3G5Qhu4PFc"
      }
    },
    {
      "cell_type": "markdown",
      "source": [
        "- 📌 Recuerda usar el estilo `snake_case` en el nombre de las variables (minúsculas y palabras unidas con guion bajo) y escribir palabras completas, no abreviadas, para una mayor legibilidad del código.\n",
        "- 📌 Recuerda envolver a los operadores `+ - =  != < >`, etc... con un espacio a la izquierda y a la derecha, y también, después de la coma, un espacio solamente a la derecha. (Ver recomendaciones de estilo PEP8)\n",
        "- 📌 Recuerda mantener un estilo en el idioma para las variables, es decir, mezclar el inglés y el español no es una buena práctica."
      ],
      "metadata": {
        "id": "u8Uy-7Gb5vTK"
      }
    },
    {
      "cell_type": "markdown",
      "source": [
        "## Ejercicio 1"
      ],
      "metadata": {
        "id": "I7RPtznjmDe_"
      }
    },
    {
      "cell_type": "markdown",
      "source": [
        "1) Escribí un programa que lea dos números por teclado y permita elegir entre 4 opciones en un menú:\n",
        "\n",
        "\n",
        "1.\tMostrar la suma de los dos números\n",
        "2.\tMostrar la resta del primero menos el segundo\n",
        "3.\tMostrar la multiplicación de los dos números\n",
        "4.\tSi elige esta opción, el bucle se interrumpirá y el programa finalizará\n",
        "5.\tEn caso de no introducir una opción válida, el programa informará que no es una opción correcta\n",
        "\n",
        "🔥 Tip: Cuando el bucle sea indeterminado, es más claro que uses `while True`:"
      ],
      "metadata": {
        "id": "Lptrupudl-Rr"
      }
    },
    {
      "cell_type": "code",
      "execution_count": 1,
      "metadata": {
        "id": "MrLKmUdilP7x",
        "colab": {
          "base_uri": "https://localhost:8080/"
        },
        "outputId": "ff18f35d-c1cc-4a40-a3ce-5bcccad221da"
      },
      "outputs": [
        {
          "output_type": "stream",
          "name": "stdout",
          "text": [
            "Escribe el primer numero: 2\n",
            "Perfecto, ahora escribe el segundo numero: 3\n",
            "Gracias, has habilitado el menu de comandos.\n",
            "1 - SUMAR escribe el comando \"SUM\".\n",
            "2 - RESTAR escrbie el comando \"REST\".\n",
            "3 - MULTIPLICAR escribe el comando \"MULT\".\n",
            "Escribe alguna de ellas para ejecutar: MULT\n",
            "Comando MULTIPLICAR arroja como resultado: 6\n"
          ]
        }
      ],
      "source": [
        "numero1 = int(input(\"Escribe el primer numero: \"))\n",
        "numero1\n",
        "numero2 = int(input(\"Perfecto, ahora escribe el segundo numero: \"))\n",
        "numero2\n",
        "\n",
        "comando = str(input(\"\"\"Gracias, has habilitado el menu de comandos.\n",
        "1 - SUMAR escribe el comando \"SUM\".\n",
        "2 - RESTAR escrbie el comando \"REST\".\n",
        "3 - MULTIPLICAR escribe el comando \"MULT\".\n",
        "Escribe alguna de ellas para ejecutar: \"\"\"))\n",
        "comando\n",
        "\n",
        "if comando == \"SUM\":\n",
        "    print(\"Comando SUMAR arroja como resultado:\" , numero1 + numero2)\n",
        "elif comando == \"REST\":\n",
        "    print(\"Comando RESTAR arroja como resultado:\" , numero1 - numero2)\n",
        "elif comando == \"MULT\":\n",
        "    print(\"Comando MULTIPLICAR arroja como resultado:\" , numero1 * numero2)\n",
        "else: \n",
        "    print(\"Has introducido un comando no valido, reinicia el programa.\")"
      ]
    },
    {
      "cell_type": "markdown",
      "source": [
        "## Ejercicio 2"
      ],
      "metadata": {
        "id": "5QSz5pCFmNcH"
      }
    },
    {
      "cell_type": "markdown",
      "source": [
        "Escribí un programa que lea un número impar por teclado. Si el usuario no introduce un número impar, debe repetirse el proceso hasta que lo introduzca correctamente."
      ],
      "metadata": {
        "id": "fqGLxX2amQY4"
      }
    },
    {
      "cell_type": "code",
      "source": [
        "numero = int(input(\"Escribe un numero PAR: \"))\n",
        "while (numero % 2) != 0:\n",
        "    numero = int(input(\"Escribe un numero PAR: \"))\n",
        "else: print(\"Perfecto!\")"
      ],
      "metadata": {
        "id": "XraTuyq8mh8a",
        "colab": {
          "base_uri": "https://localhost:8080/"
        },
        "outputId": "c43b1055-3d04-4145-dac7-7fc836f81b3e"
      },
      "execution_count": 2,
      "outputs": [
        {
          "output_type": "stream",
          "name": "stdout",
          "text": [
            "Escribe un numero PAR: 1\n",
            "Escribe un numero PAR: 1\n",
            "Escribe un numero PAR: 3\n",
            "Escribe un numero PAR: 4\n",
            "Perfecto!\n"
          ]
        }
      ]
    },
    {
      "cell_type": "markdown",
      "source": [
        "## Ejercicio 3"
      ],
      "metadata": {
        "id": "bjfN2QPUmSg6"
      }
    },
    {
      "cell_type": "markdown",
      "source": [
        "Escribí un programa que sume todos los números enteros impares desde el 0 hasta el 100:\n",
        ">🖐 Ayuda: Podés utilizar la funciones `sum()` y `range()` para hacerlo más fácil. \n",
        "Prueba el tercer parámetro de la función `range(<inicio>, <fin>, <salto>)`."
      ],
      "metadata": {
        "id": "TclAu6-xmuk5"
      }
    },
    {
      "cell_type": "code",
      "source": [
        "suma = 0\n",
        "for numero in range(100):\n",
        "    if (numero % 2) != 0:\n",
        "        suma = numero + suma\n",
        "print(f'La suma de todos los numeros enteros impares del 1 al 100 es {suma}')"
      ],
      "metadata": {
        "id": "dBz07lJ8mxpv",
        "colab": {
          "base_uri": "https://localhost:8080/"
        },
        "outputId": "66eb9ac7-9ccf-47e8-89d3-f856b702bfd6"
      },
      "execution_count": 3,
      "outputs": [
        {
          "output_type": "stream",
          "name": "stdout",
          "text": [
            "La suma de todos los numeros enteros impares del 1 al 100 es 2500\n"
          ]
        }
      ]
    },
    {
      "cell_type": "markdown",
      "source": [
        "## Ejercicio 4"
      ],
      "metadata": {
        "id": "z_2XmsBEmULg"
      }
    },
    {
      "cell_type": "markdown",
      "source": [
        "Escribí un programa que pida al usuario cuántos números quiere introducir. \n",
        "Luego lee todos los números y realiza una media aritmética (el promedio):"
      ],
      "metadata": {
        "id": "5sAQf7AJm8Jw"
      }
    },
    {
      "cell_type": "code",
      "source": [
        "numero1 = int(input(\"Escribe el primer numero: \"))\n",
        "numero1\n",
        "numero2 = int(input(\"Segundo numero: \"))\n",
        "numero2\n",
        "numero3 = int(input(\"Tercer numero: \"))\n",
        "numero3\n",
        "numero4 = int(input(\"Cuarto numero: \"))\n",
        "numero4\n",
        "lista=[ numero1 , numero2, numero3 , numero4];\n",
        "print(f\"La media aritmetica es {sum(lista)/len(lista)}, gracias!\");"
      ],
      "metadata": {
        "id": "hYSGZP8jm6Ei",
        "colab": {
          "base_uri": "https://localhost:8080/"
        },
        "outputId": "b153313e-d8dd-4c96-cf88-f29e9c6f78cc"
      },
      "execution_count": 4,
      "outputs": [
        {
          "output_type": "stream",
          "name": "stdout",
          "text": [
            "Escribe el primer numero: 3\n",
            "Segundo numero: 4\n",
            "Tercer numero: 5\n",
            "Cuarto numero: 6\n",
            "La media aritmetica es 4.5, gracias!\n"
          ]
        }
      ]
    },
    {
      "cell_type": "markdown",
      "source": [
        "## Ejercicio 5"
      ],
      "metadata": {
        "id": "X0wABp0TmVEw"
      }
    },
    {
      "cell_type": "markdown",
      "source": [
        "Escribí un programa que pida al usuario un número entero del 0 al 9. Mientras el número no sea correcto, se debe repetir el proceso. Luego, debe comprobar si el número se encuentra en la lista de números, y notificarlo.\n",
        "> 🖐 Ayuda: La sintaxis  `<valor> in <lista>` permite comprobar fácilmente si un valor se encuentra en una lista (devuelve `True` o `False`)"
      ],
      "metadata": {
        "id": "FhrV11E0nGkG"
      }
    },
    {
      "cell_type": "code",
      "source": [
        "numeros = [ 1, 2, 3, 4, 5, 6, 7, 8, 9 ]\n",
        "numero = int(input(\"Escribe un numero entre el 1 y el 9: \"))\n",
        "while (numero in numeros) == False:\n",
        "    numero = int(input(\"Escribe un numero entre el 1 y el 9: \")) \n",
        "else:  print(\"Perfecto!\")"
      ],
      "metadata": {
        "id": "7ljfbzbfe18c",
        "colab": {
          "base_uri": "https://localhost:8080/"
        },
        "outputId": "f846b83e-d7ae-4560-f266-f41a12cd7935"
      },
      "execution_count": 5,
      "outputs": [
        {
          "output_type": "stream",
          "name": "stdout",
          "text": [
            "Escribe un numero entre el 1 y el 9: 99\n",
            "Escribe un numero entre el 1 y el 9: 101\n",
            "Escribe un numero entre el 1 y el 9: 10\n",
            "Escribe un numero entre el 1 y el 9: 9\n",
            "Perfecto!\n"
          ]
        }
      ]
    },
    {
      "cell_type": "markdown",
      "source": [
        "## Ejercicio 6"
      ],
      "metadata": {
        "id": "YZg5TyngmWD4"
      }
    },
    {
      "cell_type": "markdown",
      "source": [
        "Utilizá la función `range()` y la \"conversión de listas\", para que el programa genere las siguientes listas dinámicamente:\n",
        "\n",
        "- a) Todos los números del 0 al 10 `[0, 1, 2, ..., 10]`\n",
        "- b) Todos los números del -10 al 0 `[-10, -9, -8, ..., 0]`\n",
        "- c) Todos los números pares del 0 al 20 `[0, 2, 4, ..., 20]`\n",
        "- d) Todos los números impares entre -20 y 0 `[-19, -17, -15, ...,]`\n",
        "- e) Todos los números múltiples de 5 del 0 al 50 `[0, 5, 10, ..., 50]`"
      ],
      "metadata": {
        "id": "m1Y8rduDnPPO"
      }
    },
    {
      "cell_type": "code",
      "source": [
        "lista1 = list(range(11))\n",
        "print(lista1)\n",
        "lista2 = list(range(-10,1,1))\n",
        "print(lista2)\n",
        "\n",
        "i = 0\n",
        "lista3 = []\n",
        "while i < 21:\n",
        "    i += 1\n",
        "    if (i % 2) == 0:\n",
        "        lista3.append(i)\n",
        "else: print(lista3)\n",
        "\n",
        "i = -20\n",
        "lista4 = []\n",
        "while i < 0:\n",
        "    i += 1\n",
        "    if (i % 2) != 0:\n",
        "        lista4.append(i)\n",
        "else: print(lista4)\n",
        "\n",
        "i = -20\n",
        "lista4 = []\n",
        "while i < 0:\n",
        "    i += 1\n",
        "    if (i % 2) != 0:\n",
        "        lista4.append(i)\n",
        "else: print(lista4)\n",
        "\n",
        "i = 0\n",
        "lista5 = []\n",
        "while i < 51:\n",
        "    i += 1\n",
        "    last_digit = i % 10\n",
        "    if last_digit == 0 or last_digit == 5:\n",
        "        lista5.append(i)\n",
        "    else: continue\n",
        "else: print(lista5)"
      ],
      "metadata": {
        "id": "GN2L491Xzw6w",
        "colab": {
          "base_uri": "https://localhost:8080/"
        },
        "outputId": "0e50dad6-9ba4-4158-e1bb-90f7c0d356c9"
      },
      "execution_count": 6,
      "outputs": [
        {
          "output_type": "stream",
          "name": "stdout",
          "text": [
            "[0, 1, 2, 3, 4, 5, 6, 7, 8, 9, 10]\n",
            "[-10, -9, -8, -7, -6, -5, -4, -3, -2, -1, 0]\n",
            "[2, 4, 6, 8, 10, 12, 14, 16, 18, 20]\n",
            "[-19, -17, -15, -13, -11, -9, -7, -5, -3, -1]\n",
            "[-19, -17, -15, -13, -11, -9, -7, -5, -3, -1]\n",
            "[5, 10, 15, 20, 25, 30, 35, 40, 45, 50]\n"
          ]
        }
      ]
    },
    {
      "cell_type": "markdown",
      "source": [
        "## Ejercicio 7"
      ],
      "metadata": {
        "id": "gXmVkstdmW2g"
      }
    },
    {
      "cell_type": "markdown",
      "source": [
        "Dadas dos listas, debés generar una tercera con todos los elementos que se repitan en las dos primeras, pero no debe repetirse ningún elemento en la nueva lista:\n",
        "```py\n",
        "lista_1 = [\"h\", \"o\", \"l\", \"a\", \" \", \"m\", \"u\", \"n\", \"d\", \"o\"]\n",
        "lista_2 = [\"h\", \"o\", \"l\", \"a\", \" \", \"l\", \"u\", \"n\", \"a\"]\n",
        "```"
      ],
      "metadata": {
        "id": "MbadjIjlnbx3"
      }
    },
    {
      "cell_type": "code",
      "source": [
        "lista_1 = [\"h\", \"o\", \"l\", \"a\", \" \", \"m\", \"u\", \"n\", \"d\", \"o\"]\n",
        "lista_2 = [\"h\", \"o\", \"l\", \"a\", \" \", \"l\", \"u\", \"n\", \"a\"]\n",
        "\n",
        "lista_3 = []\n",
        "\n",
        "for value in lista_1:\n",
        "    if value in lista_3:\n",
        "        pass\n",
        "    else:\n",
        "       lista_3.append(value)\n",
        "for value in lista_2:\n",
        "    if value in lista_3:\n",
        "        pass\n",
        "    else:\n",
        "       lista_3.append(value)\n",
        "print(lista_3)"
      ],
      "metadata": {
        "id": "UM2AOZAF0W8W",
        "colab": {
          "base_uri": "https://localhost:8080/"
        },
        "outputId": "948b95d0-4c34-423e-8e67-df1a64fbc05c"
      },
      "execution_count": 8,
      "outputs": [
        {
          "output_type": "stream",
          "name": "stdout",
          "text": [
            "['h', 'o', 'l', 'a', ' ', 'm', 'u', 'n', 'd']\n"
          ]
        }
      ]
    }
  ]
}